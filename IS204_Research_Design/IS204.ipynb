{
 "cells": [
  {
   "cell_type": "code",
   "execution_count": 74,
   "metadata": {},
   "outputs": [],
   "source": [
    "import pandas as pd\n",
    "import numpy as np\n",
    "import matplotlib.pyplot as plt\n",
    "import seaborn as sns\n",
    "%matplotlib inline"
   ]
  },
  {
   "cell_type": "code",
   "execution_count": 75,
   "metadata": {},
   "outputs": [],
   "source": [
    "df = pd.read_csv(\"https://raw.githubusercontent.com/aisaiahpellecer/data-science-projects/main/IS204_Research_Design/chsp-compendium-systems.csv\")"
   ]
  },
  {
   "cell_type": "code",
   "execution_count": 76,
   "metadata": {},
   "outputs": [
    {
     "name": "stdout",
     "output_type": "stream",
     "text": [
      "there are 637 rows and 38 columns in the dataframe\n"
     ]
    }
   ],
   "source": [
    "rows = df.shape[0]\n",
    "columns = df.shape[1]\n",
    "\n",
    "print(f'there are {rows} rows and {columns} columns in the dataframe')"
   ]
  },
  {
   "cell_type": "code",
   "execution_count": 77,
   "metadata": {},
   "outputs": [
    {
     "name": "stdout",
     "output_type": "stream",
     "text": [
      "health_sys_id\n",
      "health_sys_name\n",
      "health_sys_city\n",
      "health_sys_state\n",
      "in_onekey\n",
      "in_aha\n",
      "onekey_id\n",
      "aha_sysid\n",
      "total_mds\n",
      "prim_care_mds\n",
      "total_nps\n",
      "total_pas\n",
      "grp_cnt\n",
      "hosp_cnt\n",
      "acutehosp_cnt\n",
      "nh_cnt\n",
      "sys_multistate\n",
      "sys_beds\n",
      "sys_dsch\n",
      "sys_res\n",
      "maj_inv_owned\n",
      "deg_children\n",
      "sys_incl_majteachhosp\n",
      "sys_incl_vmajteachhosp\n",
      "sys_teachint\n",
      "sys_incl_highdpphosp\n",
      "sys_highucburden\n",
      "sys_incl_highuchosp\n",
      "sys_anyins_product\n",
      "sys_mcare_adv\n",
      "sys_mcaid_mngcare\n",
      "sys_healthins_mktplc\n",
      "sys_ma_plan_contracts\n",
      "sys_ma_plan_enroll\n",
      "sys_apm\n",
      "sys_aco\n",
      "sys_ebpm\n",
      "sys_pctm\n"
     ]
    }
   ],
   "source": [
    "for col in df.columns:\n",
    "    print(col)"
   ]
  },
  {
   "cell_type": "code",
   "execution_count": 78,
   "metadata": {},
   "outputs": [
    {
     "name": "stdout",
     "output_type": "stream",
     "text": [
      "The sum of missing values in each column\n",
      "health_sys_id               0\n",
      "health_sys_name             0\n",
      "health_sys_city             0\n",
      "health_sys_state            0\n",
      "in_onekey                   0\n",
      "in_aha                      0\n",
      "onekey_id                   4\n",
      "aha_sysid                 324\n",
      "total_mds                   0\n",
      "prim_care_mds               3\n",
      "total_nps                   4\n",
      "total_pas                   4\n",
      "grp_cnt                     3\n",
      "hosp_cnt                    0\n",
      "acutehosp_cnt               0\n",
      "nh_cnt                      4\n",
      "sys_multistate              0\n",
      "sys_beds                    2\n",
      "sys_dsch                    2\n",
      "sys_res                     2\n",
      "maj_inv_owned               2\n",
      "deg_children                0\n",
      "sys_incl_majteachhosp       2\n",
      "sys_incl_vmajteachhosp      2\n",
      "sys_teachint                2\n",
      "sys_incl_highdpphosp        2\n",
      "sys_highucburden            2\n",
      "sys_incl_highuchosp         2\n",
      "sys_anyins_product         40\n",
      "sys_mcare_adv              67\n",
      "sys_mcaid_mngcare          62\n",
      "sys_healthins_mktplc       68\n",
      "sys_ma_plan_contracts     568\n",
      "sys_ma_plan_enroll        568\n",
      "sys_apm                     0\n",
      "sys_aco                     0\n",
      "sys_ebpm                    0\n",
      "sys_pctm                    0\n",
      "dtype: int64\n"
     ]
    }
   ],
   "source": [
    "print(\"The sum of missing values in each column\")\n",
    "missing_values = df.isnull().sum()\n",
    "print(missing_values)\n",
    "\n",
    "# assert 0 =! missing_values, \"Result: There are missing values in the data set\"\n",
    "# assert( (63 <= df_10.mean()).bool() & (df_10.mean() <= 65).bool() ), \"The Catch 10 simulation is not correct!\"\n"
   ]
  },
  {
   "cell_type": "code",
   "execution_count": 79,
   "metadata": {},
   "outputs": [
    {
     "data": {
      "text/html": [
       "<div>\n",
       "<style scoped>\n",
       "    .dataframe tbody tr th:only-of-type {\n",
       "        vertical-align: middle;\n",
       "    }\n",
       "\n",
       "    .dataframe tbody tr th {\n",
       "        vertical-align: top;\n",
       "    }\n",
       "\n",
       "    .dataframe thead th {\n",
       "        text-align: right;\n",
       "    }\n",
       "</style>\n",
       "<table border=\"1\" class=\"dataframe\">\n",
       "  <thead>\n",
       "    <tr style=\"text-align: right;\">\n",
       "      <th></th>\n",
       "      <th>sys_highucburden</th>\n",
       "      <th>sys_teachint</th>\n",
       "      <th>total_mds</th>\n",
       "      <th>prim_care_mds</th>\n",
       "      <th>total_nps</th>\n",
       "      <th>total_pas</th>\n",
       "      <th>grp_cnt</th>\n",
       "      <th>sys_aco</th>\n",
       "      <th>hosp_cnt</th>\n",
       "      <th>sys_dsch</th>\n",
       "    </tr>\n",
       "  </thead>\n",
       "  <tbody>\n",
       "    <tr>\n",
       "      <th>0</th>\n",
       "      <td>1.0</td>\n",
       "      <td>1.0</td>\n",
       "      <td>221</td>\n",
       "      <td>89.0</td>\n",
       "      <td>94.0</td>\n",
       "      <td>12.0</td>\n",
       "      <td>51.0</td>\n",
       "      <td>144</td>\n",
       "      <td>3</td>\n",
       "      <td>10533.0</td>\n",
       "    </tr>\n",
       "    <tr>\n",
       "      <th>1</th>\n",
       "      <td>1.0</td>\n",
       "      <td>1.0</td>\n",
       "      <td>2558</td>\n",
       "      <td>940.0</td>\n",
       "      <td>668.0</td>\n",
       "      <td>269.0</td>\n",
       "      <td>570.0</td>\n",
       "      <td>1342</td>\n",
       "      <td>34</td>\n",
       "      <td>366041.0</td>\n",
       "    </tr>\n",
       "    <tr>\n",
       "      <th>2</th>\n",
       "      <td>0.0</td>\n",
       "      <td>1.0</td>\n",
       "      <td>1716</td>\n",
       "      <td>621.0</td>\n",
       "      <td>358.0</td>\n",
       "      <td>300.0</td>\n",
       "      <td>345.0</td>\n",
       "      <td>232</td>\n",
       "      <td>28</td>\n",
       "      <td>136567.0</td>\n",
       "    </tr>\n",
       "    <tr>\n",
       "      <th>3</th>\n",
       "      <td>0.0</td>\n",
       "      <td>0.0</td>\n",
       "      <td>283</td>\n",
       "      <td>85.0</td>\n",
       "      <td>46.0</td>\n",
       "      <td>63.0</td>\n",
       "      <td>46.0</td>\n",
       "      <td>0</td>\n",
       "      <td>4</td>\n",
       "      <td>33181.0</td>\n",
       "    </tr>\n",
       "    <tr>\n",
       "      <th>4</th>\n",
       "      <td>1.0</td>\n",
       "      <td>2.0</td>\n",
       "      <td>474</td>\n",
       "      <td>163.0</td>\n",
       "      <td>44.0</td>\n",
       "      <td>43.0</td>\n",
       "      <td>9.0</td>\n",
       "      <td>0</td>\n",
       "      <td>3</td>\n",
       "      <td>15310.0</td>\n",
       "    </tr>\n",
       "    <tr>\n",
       "      <th>...</th>\n",
       "      <td>...</td>\n",
       "      <td>...</td>\n",
       "      <td>...</td>\n",
       "      <td>...</td>\n",
       "      <td>...</td>\n",
       "      <td>...</td>\n",
       "      <td>...</td>\n",
       "      <td>...</td>\n",
       "      <td>...</td>\n",
       "      <td>...</td>\n",
       "    </tr>\n",
       "    <tr>\n",
       "      <th>632</th>\n",
       "      <td>0.0</td>\n",
       "      <td>1.0</td>\n",
       "      <td>77</td>\n",
       "      <td>22.0</td>\n",
       "      <td>14.0</td>\n",
       "      <td>5.0</td>\n",
       "      <td>3.0</td>\n",
       "      <td>150</td>\n",
       "      <td>1</td>\n",
       "      <td>10903.0</td>\n",
       "    </tr>\n",
       "    <tr>\n",
       "      <th>633</th>\n",
       "      <td>0.0</td>\n",
       "      <td>0.0</td>\n",
       "      <td>53</td>\n",
       "      <td>28.0</td>\n",
       "      <td>16.0</td>\n",
       "      <td>9.0</td>\n",
       "      <td>10.0</td>\n",
       "      <td>0</td>\n",
       "      <td>1</td>\n",
       "      <td>3012.0</td>\n",
       "    </tr>\n",
       "    <tr>\n",
       "      <th>634</th>\n",
       "      <td>0.0</td>\n",
       "      <td>1.0</td>\n",
       "      <td>258</td>\n",
       "      <td>89.0</td>\n",
       "      <td>67.0</td>\n",
       "      <td>38.0</td>\n",
       "      <td>55.0</td>\n",
       "      <td>176</td>\n",
       "      <td>1</td>\n",
       "      <td>7739.0</td>\n",
       "    </tr>\n",
       "    <tr>\n",
       "      <th>635</th>\n",
       "      <td>0.0</td>\n",
       "      <td>0.0</td>\n",
       "      <td>71</td>\n",
       "      <td>28.0</td>\n",
       "      <td>19.0</td>\n",
       "      <td>10.0</td>\n",
       "      <td>20.0</td>\n",
       "      <td>58</td>\n",
       "      <td>2</td>\n",
       "      <td>3914.0</td>\n",
       "    </tr>\n",
       "    <tr>\n",
       "      <th>636</th>\n",
       "      <td>0.0</td>\n",
       "      <td>0.0</td>\n",
       "      <td>75</td>\n",
       "      <td>18.0</td>\n",
       "      <td>13.0</td>\n",
       "      <td>11.0</td>\n",
       "      <td>8.0</td>\n",
       "      <td>0</td>\n",
       "      <td>1</td>\n",
       "      <td>3022.0</td>\n",
       "    </tr>\n",
       "  </tbody>\n",
       "</table>\n",
       "<p>637 rows × 10 columns</p>\n",
       "</div>"
      ],
      "text/plain": [
       "     sys_highucburden  sys_teachint  total_mds  prim_care_mds  total_nps  \\\n",
       "0                 1.0           1.0        221           89.0       94.0   \n",
       "1                 1.0           1.0       2558          940.0      668.0   \n",
       "2                 0.0           1.0       1716          621.0      358.0   \n",
       "3                 0.0           0.0        283           85.0       46.0   \n",
       "4                 1.0           2.0        474          163.0       44.0   \n",
       "..                ...           ...        ...            ...        ...   \n",
       "632               0.0           1.0         77           22.0       14.0   \n",
       "633               0.0           0.0         53           28.0       16.0   \n",
       "634               0.0           1.0        258           89.0       67.0   \n",
       "635               0.0           0.0         71           28.0       19.0   \n",
       "636               0.0           0.0         75           18.0       13.0   \n",
       "\n",
       "     total_pas  grp_cnt  sys_aco  hosp_cnt  sys_dsch  \n",
       "0         12.0     51.0      144         3   10533.0  \n",
       "1        269.0    570.0     1342        34  366041.0  \n",
       "2        300.0    345.0      232        28  136567.0  \n",
       "3         63.0     46.0        0         4   33181.0  \n",
       "4         43.0      9.0        0         3   15310.0  \n",
       "..         ...      ...      ...       ...       ...  \n",
       "632        5.0      3.0      150         1   10903.0  \n",
       "633        9.0     10.0        0         1    3012.0  \n",
       "634       38.0     55.0      176         1    7739.0  \n",
       "635       10.0     20.0       58         2    3914.0  \n",
       "636       11.0      8.0        0         1    3022.0  \n",
       "\n",
       "[637 rows x 10 columns]"
      ]
     },
     "execution_count": 79,
     "metadata": {},
     "output_type": "execute_result"
    }
   ],
   "source": [
    "df_1 = df.loc[:,('sys_highucburden','sys_teachint','total_mds','prim_care_mds','total_nps','total_pas','grp_cnt', 'sys_aco','hosp_cnt', \"sys_dsch\",)]\n",
    "df_1.dropna()\n",
    "\n",
    "df_1"
   ]
  },
  {
   "cell_type": "code",
   "execution_count": 80,
   "metadata": {},
   "outputs": [
    {
     "data": {
      "text/plain": [
       "dtype('float64')"
      ]
     },
     "execution_count": 80,
     "metadata": {},
     "output_type": "execute_result"
    }
   ],
   "source": [
    "df_1['grp_cnt'].dtypes"
   ]
  },
  {
   "cell_type": "code",
   "execution_count": 81,
   "metadata": {},
   "outputs": [],
   "source": [
    "# Calculating System Quality\n",
    "# Note: Hospital = (Numeric) Total number of hospitals per system\n",
    "# Note: Hospital = (Numeric) Total number of medical groups (i.e., clinics) per system\n",
    "# Note: sys_dsch =  (Numeric) Number of discharges per system\n",
    "\n",
    "df_1[\"quality\"] =df_1[\"sys_dsch\"]/df_1[\"hosp_cnt\"]+df_1['grp_cnt']\n",
    "\n"
   ]
  },
  {
   "cell_type": "code",
   "execution_count": 82,
   "metadata": {},
   "outputs": [],
   "source": [
    "\n",
    "\n",
    "# plt.xlabel(\"Quality of Care (System Discharges/ Total hospitals)\")\n",
    "# plt.ylabel(\"Frequency\")\n",
    "# plt.title(\"Distribution of Quality of Care\")\n",
    "# system_quality.hist(bins=20)\n"
   ]
  },
  {
   "cell_type": "code",
   "execution_count": 83,
   "metadata": {},
   "outputs": [
    {
     "name": "stdout",
     "output_type": "stream",
     "text": [
      "10282.622497062626\n",
      "8403.75\n"
     ]
    },
    {
     "data": {
      "image/png": "[encoded data removed]",
      "text/plain": [
       "<Figure size 720x432 with 1 Axes>"
      ]
     },
     "metadata": {
      "needs_background": "light"
     },
     "output_type": "display_data"
    }
   ],
   "source": [
    "#System Quality Histogram\n",
    "plt.figure(figsize=(10,6))\n",
    "ax = sns.histplot(x=\"quality\",data=df_1,bins=35, color= '#6890F0')\n",
    "ax.set_xlabel(\"Health System Quality (Discharges/System Count)\")\n",
    "ax.set_title(\"Distribution of Health System Quality\")\n",
    "print(df_1[\"quality\"].mean())\n",
    "print(df_1[\"quality\"].median())\n"
   ]
  },
  {
   "cell_type": "markdown",
   "metadata": {},
   "source": []
  },
  {
   "cell_type": "code",
   "execution_count": 84,
   "metadata": {},
   "outputs": [
    {
     "data": {
      "text/plain": [
       "Text(0.5, 0, 'High Uncompensated Care Burden')"
      ]
     },
     "execution_count": 84,
     "metadata": {},
     "output_type": "execute_result"
    },
    {
     "data": {
      "image/png": "[encoded data removed]",
      "text/plain": [
       "<Figure size 360x576 with 1 Axes>"
      ]
     },
     "metadata": {
      "needs_background": "light"
     },
     "output_type": "display_data"
    }
   ],
   "source": [
    "\n",
    "# Relationship between Uncompensated Care Burden (0/1) and quality of care \n",
    "#Uncompensated Care Burden (0/1) = df[\"sys_highucburden\"]\n",
    "plt.figure(figsize=(5,8))\n",
    "colors_list = ['#F08030', '#6890F0']\n",
    "ax = sns.violinplot(x=\"sys_highucburden\", y=\"quality\", data=df_1, palette=colors_list)\n",
    "ax.set_xticklabels(['No','Yes'])\n",
    "ax.set_title(\"Violin Plot of System Quality and High Uncompensated Care Burden\")\n",
    "ax.set_ylabel(\"Health System Quality (Discharges/System Count)\")\n",
    "ax.set_xlabel(\"High Uncompensated Care Burden\")\n"
   ]
  },
  {
   "cell_type": "code",
   "execution_count": 85,
   "metadata": {},
   "outputs": [
    {
     "name": "stdout",
     "output_type": "stream",
     "text": [
      "11904.934998038867\n",
      "9898.474135774708\n",
      "8403.75\n"
     ]
    }
   ],
   "source": [
    "print(df_1[df_1[\"sys_highucburden\"]==1][\"quality\"].mean())\n",
    "print(df_1[df_1[\"sys_highucburden\"]==0][\"quality\"].mean())\n",
    "\n",
    "\n",
    "print(df_1[\"quality\"].median())\n"
   ]
  },
  {
   "cell_type": "code",
   "execution_count": 86,
   "metadata": {},
   "outputs": [
    {
     "data": {
      "text/plain": [
       "Text(0.5, 0, 'Health System Quality (Discharges/System Count)')"
      ]
     },
     "execution_count": 86,
     "metadata": {},
     "output_type": "execute_result"
    },
    {
     "data": {
      "image/png": "[encoded data removed]",
      "text/plain": [
       "<Figure size 432x288 with 1 Axes>"
      ]
     },
     "metadata": {
      "needs_background": "light"
     },
     "output_type": "display_data"
    }
   ],
   "source": [
    "# Relationship between Insurance grouping and quality of care \n",
    "# Number of system-affiliated physicians who are participating in one or more Medicare accountable care organizations \n",
    "# sys_aco\n",
    "ax = sns.regplot(y=\"sys_aco\", x=\"quality\", data=df_1, color=\"#6890F0\");\n",
    "ax.set_title(\"Regression Analysis\")\n",
    "ax.set_ylabel(\"# of Physicians participating in 1+ Medicare accountable care organizations \")\n",
    "ax.set_xlabel(\"Health System Quality (Discharges/System Count)\")\n"
   ]
  },
  {
   "cell_type": "code",
   "execution_count": 88,
   "metadata": {},
   "outputs": [
    {
     "data": {
      "text/plain": [
       "<AxesSubplot:>"
      ]
     },
     "execution_count": 88,
     "metadata": {},
     "output_type": "execute_result"
    },
    {
     "data": {
      "image/png": "[encoded data removed]",
      "text/plain": [
       "<Figure size 432x288 with 2 Axes>"
      ]
     },
     "metadata": {
      "needs_background": "light"
     },
     "output_type": "display_data"
    }
   ],
   "source": [
    "sns.heatmap(df_1[[\"quality\",'sys_highucburden','sys_teachint','total_mds','prim_care_mds','total_nps','total_pas', 'sys_aco']].corr())"
   ]
  },
  {
   "cell_type": "code",
   "execution_count": 89,
   "metadata": {},
   "outputs": [
    {
     "data": {
      "text/html": [
       "<div>\n",
       "<style scoped>\n",
       "    .dataframe tbody tr th:only-of-type {\n",
       "        vertical-align: middle;\n",
       "    }\n",
       "\n",
       "    .dataframe tbody tr th {\n",
       "        vertical-align: top;\n",
       "    }\n",
       "\n",
       "    .dataframe thead th {\n",
       "        text-align: right;\n",
       "    }\n",
       "</style>\n",
       "<table border=\"1\" class=\"dataframe\">\n",
       "  <thead>\n",
       "    <tr style=\"text-align: right;\">\n",
       "      <th></th>\n",
       "      <th>quality</th>\n",
       "      <th>sys_highucburden</th>\n",
       "      <th>sys_teachint</th>\n",
       "      <th>total_mds</th>\n",
       "      <th>prim_care_mds</th>\n",
       "      <th>total_nps</th>\n",
       "      <th>total_pas</th>\n",
       "      <th>sys_aco</th>\n",
       "    </tr>\n",
       "  </thead>\n",
       "  <tbody>\n",
       "    <tr>\n",
       "      <th>quality</th>\n",
       "      <td>1.000000</td>\n",
       "      <td>0.102796</td>\n",
       "      <td>0.317607</td>\n",
       "      <td>0.105839</td>\n",
       "      <td>0.067521</td>\n",
       "      <td>0.094039</td>\n",
       "      <td>0.064501</td>\n",
       "      <td>0.101589</td>\n",
       "    </tr>\n",
       "    <tr>\n",
       "      <th>sys_highucburden</th>\n",
       "      <td>0.102796</td>\n",
       "      <td>1.000000</td>\n",
       "      <td>0.007445</td>\n",
       "      <td>0.007919</td>\n",
       "      <td>0.013796</td>\n",
       "      <td>-0.022687</td>\n",
       "      <td>-0.033314</td>\n",
       "      <td>-0.120198</td>\n",
       "    </tr>\n",
       "    <tr>\n",
       "      <th>sys_teachint</th>\n",
       "      <td>0.317607</td>\n",
       "      <td>0.007445</td>\n",
       "      <td>1.000000</td>\n",
       "      <td>0.277061</td>\n",
       "      <td>0.208298</td>\n",
       "      <td>0.269326</td>\n",
       "      <td>0.219475</td>\n",
       "      <td>0.252937</td>\n",
       "    </tr>\n",
       "    <tr>\n",
       "      <th>total_mds</th>\n",
       "      <td>0.105839</td>\n",
       "      <td>0.007919</td>\n",
       "      <td>0.277061</td>\n",
       "      <td>1.000000</td>\n",
       "      <td>0.935934</td>\n",
       "      <td>0.845156</td>\n",
       "      <td>0.867026</td>\n",
       "      <td>0.609644</td>\n",
       "    </tr>\n",
       "    <tr>\n",
       "      <th>prim_care_mds</th>\n",
       "      <td>0.067521</td>\n",
       "      <td>0.013796</td>\n",
       "      <td>0.208298</td>\n",
       "      <td>0.935934</td>\n",
       "      <td>1.000000</td>\n",
       "      <td>0.802311</td>\n",
       "      <td>0.842418</td>\n",
       "      <td>0.517238</td>\n",
       "    </tr>\n",
       "    <tr>\n",
       "      <th>total_nps</th>\n",
       "      <td>0.094039</td>\n",
       "      <td>-0.022687</td>\n",
       "      <td>0.269326</td>\n",
       "      <td>0.845156</td>\n",
       "      <td>0.802311</td>\n",
       "      <td>1.000000</td>\n",
       "      <td>0.901132</td>\n",
       "      <td>0.705749</td>\n",
       "    </tr>\n",
       "    <tr>\n",
       "      <th>total_pas</th>\n",
       "      <td>0.064501</td>\n",
       "      <td>-0.033314</td>\n",
       "      <td>0.219475</td>\n",
       "      <td>0.867026</td>\n",
       "      <td>0.842418</td>\n",
       "      <td>0.901132</td>\n",
       "      <td>1.000000</td>\n",
       "      <td>0.635186</td>\n",
       "    </tr>\n",
       "    <tr>\n",
       "      <th>sys_aco</th>\n",
       "      <td>0.101589</td>\n",
       "      <td>-0.120198</td>\n",
       "      <td>0.252937</td>\n",
       "      <td>0.609644</td>\n",
       "      <td>0.517238</td>\n",
       "      <td>0.705749</td>\n",
       "      <td>0.635186</td>\n",
       "      <td>1.000000</td>\n",
       "    </tr>\n",
       "  </tbody>\n",
       "</table>\n",
       "</div>"
      ],
      "text/plain": [
       "                   quality  sys_highucburden  sys_teachint  total_mds  \\\n",
       "quality           1.000000          0.102796      0.317607   0.105839   \n",
       "sys_highucburden  0.102796          1.000000      0.007445   0.007919   \n",
       "sys_teachint      0.317607          0.007445      1.000000   0.277061   \n",
       "total_mds         0.105839          0.007919      0.277061   1.000000   \n",
       "prim_care_mds     0.067521          0.013796      0.208298   0.935934   \n",
       "total_nps         0.094039         -0.022687      0.269326   0.845156   \n",
       "total_pas         0.064501         -0.033314      0.219475   0.867026   \n",
       "sys_aco           0.101589         -0.120198      0.252937   0.609644   \n",
       "\n",
       "                  prim_care_mds  total_nps  total_pas   sys_aco  \n",
       "quality                0.067521   0.094039   0.064501  0.101589  \n",
       "sys_highucburden       0.013796  -0.022687  -0.033314 -0.120198  \n",
       "sys_teachint           0.208298   0.269326   0.219475  0.252937  \n",
       "total_mds              0.935934   0.845156   0.867026  0.609644  \n",
       "prim_care_mds          1.000000   0.802311   0.842418  0.517238  \n",
       "total_nps              0.802311   1.000000   0.901132  0.705749  \n",
       "total_pas              0.842418   0.901132   1.000000  0.635186  \n",
       "sys_aco                0.517238   0.705749   0.635186  1.000000  "
      ]
     },
     "execution_count": 89,
     "metadata": {},
     "output_type": "execute_result"
    }
   ],
   "source": [
    "df_1[[\"quality\",'sys_highucburden','sys_teachint','total_mds','prim_care_mds','total_nps','total_pas', 'sys_aco']].corr()"
   ]
  }
 ],
 "metadata": {
  "kernelspec": {
   "display_name": "Python 3.9.12 ('base')",
   "language": "python",
   "name": "python3"
  },
  "language_info": {
   "codemirror_mode": {
    "name": "ipython",
    "version": 3
   },
   "file_extension": ".py",
   "mimetype": "text/x-python",
   "name": "python",
   "nbconvert_exporter": "python",
   "pygments_lexer": "ipython3",
   "version": "3.9.12"
  },
  "orig_nbformat": 4,
  "vscode": {
   "interpreter": {
    "hash": "49a23c992ca8aad317bcf175e40c00785cb119e116d6d13aa8d7d07120232c74"
   }
  }
 },
 "nbformat": 4,
 "nbformat_minor": 2
}
