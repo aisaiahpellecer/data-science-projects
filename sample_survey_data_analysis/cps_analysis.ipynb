{
 "cells": [
  {
   "cell_type": "markdown",
   "metadata": {},
   "source": [
    "# **1. Introduction to Econometrics: Sample Survey Data Analysis Project**\n",
    "\n",
    "***\n",
    "#### **1.1 About the Project**\n",
    "In an effort to add more to my Github portfolio I have decided to redo a past STATA project using Python. The Project was Sample Survey Data Analysis. I had completed the project for my Introduction to Econometrics Course at Bard College. Although, I appreciate that I was able to code in STATA, I believe that it would be much more beneficial for me to conduct this type analysis on Python; for my own personal growth and because softwares like Python and R are commonly used in the Data Analytics industry.\n",
    "\n",
    "#### **1.2 About the Data**\n",
    "The dataset was selected by my Professor. It contains demographic data from the 2018 Current Population Survey (CPS), from IPUMS. \n",
    "> *\"IPUMS CPS harmonizes microdata from the monthly U.S. labor force survey, the Current Population Survey (CPS), covering the period 1962 to the present\" - IPUMS.*\n",
    "\n",
    "***\n",
    "\n",
    "<span style=\"color:yellow\">For more details about the data please review the codebook: \"cps_codebook.txt\"</span>\n",
    "\n",
    "\n"
   ]
  },
  {
   "cell_type": "markdown",
   "metadata": {},
   "source": [
    "![Data Analysis steps](/Users/aisaiahpellecer/Desktop/ds_projects/sample_survey_data_analysis/process.png \"Data Analysis Process\") "
   ]
  },
  {
   "cell_type": "markdown",
   "metadata": {},
   "source": [
    "***\n",
    "# **2. Data Collection**\n",
    "Luckily the data set was pulled from CPS and is available in the project folder. All that is left is to introduce the tools and load the dataframe.\n",
    "***"
   ]
  },
  {
   "cell_type": "markdown",
   "metadata": {},
   "source": [
    "## 2.1 Tools \n",
    "* Pandas \n",
    "* Matplotlib"
   ]
  },
  {
   "cell_type": "code",
   "execution_count": 13,
   "metadata": {},
   "outputs": [],
   "source": [
    "import pandas as pd\n",
    "import matplotlib.pyplot as plt"
   ]
  },
  {
   "cell_type": "markdown",
   "metadata": {},
   "source": [
    "#### Creating dataframe"
   ]
  },
  {
   "cell_type": "code",
   "execution_count": 22,
   "metadata": {},
   "outputs": [
    {
     "name": "stdout",
     "output_type": "stream",
     "text": [
      "        YEAR  SERIAL  MONTH           CPSID  ASECFLAG  ASECWTH  PERNUM  \\\n",
      "0       2018       2      3  20171202892400         1  1316.02       1   \n",
      "1       2018       4      3  20180302858200         1   824.29       1   \n",
      "2       2018       4      3  20180302858200         1   824.29       2   \n",
      "3       2018       4      3  20180302858200         1   824.29       3   \n",
      "4       2018       4      3  20180302858200         1   824.29       4   \n",
      "...      ...     ...    ...             ...       ...      ...     ...   \n",
      "180079  2018   92138      3               0         1   496.76       1   \n",
      "180080  2018   92138      3               0         1   496.76       2   \n",
      "180081  2018   92139      3               0         1   569.86       1   \n",
      "180082  2018   92139      3               0         1   569.86       2   \n",
      "180083  2018   92139      3               0         1   569.86       3   \n",
      "\n",
      "                CPSIDP   ASECWT  AGE  SEX  RACE  MARST   BPL  HISPAN    INCTOT  \n",
      "0       20171202892401  1316.02   73    1   100      6  9900       0     50202  \n",
      "1       20180302858201   824.29   48    1   100      1  9900       0     19201  \n",
      "2       20180302858202   824.29   55    2   100      1  9900       0    121684  \n",
      "3       20180302858205   731.67   12    1   100      6  9900       0  99999999  \n",
      "4       20180302858204  1106.47    6    2   200      6  9900       0  99999999  \n",
      "...                ...      ...  ...  ...   ...    ...   ...     ...       ...  \n",
      "180079               0   496.76   36    2   652      6  9900       0     24158  \n",
      "180080               0   543.34   32    2   652      6  9900       0     24026  \n",
      "180081               0   569.86   35    2   813      4  9900     401     11352  \n",
      "180082               0   468.71   13    2   813      6  9900     401  99999999  \n",
      "180083               0   531.44    5    1   813      6  9900     401  99999999  \n",
      "\n",
      "[180084 rows x 16 columns]\n"
     ]
    }
   ],
   "source": [
    "df = pd.read_csv(\"/Users/aisaiahpellecer/Desktop/ds_projects/sample_survey_data_analysis/cps.csv\")\n",
    "print(df)\n"
   ]
  },
  {
   "cell_type": "markdown",
   "metadata": {},
   "source": [
    "***\n",
    "#### **Cleaning the Data**\n",
    "***"
   ]
  },
  {
   "cell_type": "code",
   "execution_count": 24,
   "metadata": {},
   "outputs": [
    {
     "data": {
      "text/html": [
       "<div>\n",
       "<style scoped>\n",
       "    .dataframe tbody tr th:only-of-type {\n",
       "        vertical-align: middle;\n",
       "    }\n",
       "\n",
       "    .dataframe tbody tr th {\n",
       "        vertical-align: top;\n",
       "    }\n",
       "\n",
       "    .dataframe thead th {\n",
       "        text-align: right;\n",
       "    }\n",
       "</style>\n",
       "<table border=\"1\" class=\"dataframe\">\n",
       "  <thead>\n",
       "    <tr style=\"text-align: right;\">\n",
       "      <th></th>\n",
       "      <th>a</th>\n",
       "      <th>c</th>\n",
       "    </tr>\n",
       "  </thead>\n",
       "  <tbody>\n",
       "    <tr>\n",
       "      <th>0</th>\n",
       "      <td>1</td>\n",
       "      <td>4</td>\n",
       "    </tr>\n",
       "    <tr>\n",
       "      <th>1</th>\n",
       "      <td>2</td>\n",
       "      <td>5</td>\n",
       "    </tr>\n",
       "    <tr>\n",
       "      <th>2</th>\n",
       "      <td>3</td>\n",
       "      <td>6</td>\n",
       "    </tr>\n",
       "  </tbody>\n",
       "</table>\n",
       "</div>"
      ],
      "text/plain": [
       "   a  c\n",
       "0  1  4\n",
       "1  2  5\n",
       "2  3  6"
      ]
     },
     "execution_count": 24,
     "metadata": {},
     "output_type": "execute_result"
    }
   ],
   "source": [
    "df = pd.DataFrame({\"A\": [1, 2, 3], \"B\": [4, 5, 6]})\n",
    "df.rename(columns={\"A\": \"a\", \"B\": \"c\"})\n"
   ]
  },
  {
   "cell_type": "markdown",
   "metadata": {},
   "source": []
  }
 ],
 "metadata": {
  "kernelspec": {
   "display_name": "Python 3.9.12 ('base')",
   "language": "python",
   "name": "python3"
  },
  "language_info": {
   "codemirror_mode": {
    "name": "ipython",
    "version": 3
   },
   "file_extension": ".py",
   "mimetype": "text/x-python",
   "name": "python",
   "nbconvert_exporter": "python",
   "pygments_lexer": "ipython3",
   "version": "3.9.12"
  },
  "orig_nbformat": 4,
  "vscode": {
   "interpreter": {
    "hash": "49a23c992ca8aad317bcf175e40c00785cb119e116d6d13aa8d7d07120232c74"
   }
  }
 },
 "nbformat": 4,
 "nbformat_minor": 2
}
