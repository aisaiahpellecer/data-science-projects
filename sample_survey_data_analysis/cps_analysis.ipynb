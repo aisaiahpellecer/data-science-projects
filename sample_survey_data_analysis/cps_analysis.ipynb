{
 "cells": [
  {
   "cell_type": "markdown",
   "metadata": {},
   "source": [
    "# **1. Introduction to Econometrics: Sample Survey Data Analysis Project**\n",
    "\n",
    "***\n",
    "#### **1.1 About the Project**\n",
    "In an effort to add more to my Github portfolio I have decided to redo a past STATA project using Python. The Project was Sample Survey Data Analysis. I had completed the project for my Introduction to Econometrics Course at Bard College. Although, I appreciate that I was able to code in STATA, I believe that it would be much more beneficial for me to conduct this type analysis on Python; for my own personal growth and because softwares like Python and R are commonly used in the Data Analytics industry.\n",
    "\n",
    "#### **1.2 About the Data**\n",
    "The dataset was selected by my Professor. It contains demographic data from the 2018 Current Population Survey (CPS), from IPUMS. \n",
    "> *\"IPUMS CPS harmonizes microdata from the monthly U.S. labor force survey, the Current Population Survey (CPS), covering the period 1962 to the present\" - IPUMS.*\n",
    "\n",
    "***\n",
    "\n",
    "<span style=\"color:red\">For more details about the data please review the codebook: \"cps_codebook.txt\"</span>\n",
    "\n",
    "\n"
   ]
  },
  {
   "cell_type": "markdown",
   "metadata": {},
   "source": [
    "![Data Analysis steps](/Users/aisaiahpellecer/Desktop/ds_projects/sample_survey_data_analysis/process.png \"Data Analysis Process\")"
   ]
  },
  {
   "cell_type": "markdown",
   "metadata": {},
   "source": [
    "***\n",
    "# **2. Data Collection**\n",
    "Luckily the data set was pulled from CPS and is available in the project folder. All that is left is to introduce the tools and load the dataframe.\n",
    "\n",
    "**Dataset:** https://raw.githubusercontent.com/aisaiahpellecer/data-science-projects/main/sample_survey_data_analysis/cps.csv \n",
    "\n",
    "***"
   ]
  },
  {
   "cell_type": "markdown",
   "metadata": {},
   "source": [
    "### 2.1 Tools \n",
    "* Pandas \n",
    "* Matplotlib"
   ]
  },
  {
   "cell_type": "code",
   "execution_count": 2,
   "metadata": {},
   "outputs": [],
   "source": [
    "import pandas as pd\n",
    "import numpy as np\n",
    "import matplotlib.pyplot as plt"
   ]
  },
  {
   "cell_type": "markdown",
   "metadata": {},
   "source": [
    "#### Creating the dataframe and taking a look"
   ]
  },
  {
   "cell_type": "code",
   "execution_count": 6,
   "metadata": {},
   "outputs": [
    {
     "name": "stdout",
     "output_type": "stream",
     "text": [
      "        YEAR  SERIAL  MONTH           CPSID  ASECFLAG  ASECWTH  PERNUM  \\\n",
      "0       2018       2      3  20171202892400         1  1316.02       1   \n",
      "1       2018       4      3  20180302858200         1   824.29       1   \n",
      "2       2018       4      3  20180302858200         1   824.29       2   \n",
      "3       2018       4      3  20180302858200         1   824.29       3   \n",
      "4       2018       4      3  20180302858200         1   824.29       4   \n",
      "...      ...     ...    ...             ...       ...      ...     ...   \n",
      "180079  2018   92138      3               0         1   496.76       1   \n",
      "180080  2018   92138      3               0         1   496.76       2   \n",
      "180081  2018   92139      3               0         1   569.86       1   \n",
      "180082  2018   92139      3               0         1   569.86       2   \n",
      "180083  2018   92139      3               0         1   569.86       3   \n",
      "\n",
      "                CPSIDP   ASECWT  AGE  SEX  RACE  MARST   BPL  HISPAN    INCTOT  \n",
      "0       20171202892401  1316.02   73    1   100      6  9900       0     50202  \n",
      "1       20180302858201   824.29   48    1   100      1  9900       0     19201  \n",
      "2       20180302858202   824.29   55    2   100      1  9900       0    121684  \n",
      "3       20180302858205   731.67   12    1   100      6  9900       0  99999999  \n",
      "4       20180302858204  1106.47    6    2   200      6  9900       0  99999999  \n",
      "...                ...      ...  ...  ...   ...    ...   ...     ...       ...  \n",
      "180079               0   496.76   36    2   652      6  9900       0     24158  \n",
      "180080               0   543.34   32    2   652      6  9900       0     24026  \n",
      "180081               0   569.86   35    2   813      4  9900     401     11352  \n",
      "180082               0   468.71   13    2   813      6  9900     401  99999999  \n",
      "180083               0   531.44    5    1   813      6  9900     401  99999999  \n",
      "\n",
      "[180084 rows x 16 columns]\n"
     ]
    }
   ],
   "source": [
    "df = pd.read_csv(\"https://raw.githubusercontent.com/aisaiahpellecer/data-science-projects/main/sample_survey_data_analysis/cps.csv\")\n",
    "print(df)\n"
   ]
  },
  {
   "cell_type": "markdown",
   "metadata": {},
   "source": [
    "***\n",
    "### **3. Understanding the Data**\n",
    "***"
   ]
  },
  {
   "cell_type": "markdown",
   "metadata": {},
   "source": [
    "#### 3.1 Number of Columns and Rows"
   ]
  },
  {
   "cell_type": "code",
   "execution_count": 42,
   "metadata": {},
   "outputs": [
    {
     "name": "stdout",
     "output_type": "stream",
     "text": [
      "there are 180084 rows and 16 columns in the dataframe\n"
     ]
    }
   ],
   "source": [
    "rows = df.shape[0]\n",
    "columns = df.shape[1]\n",
    "\n",
    "print(f'there are {rows} rows and {columns} columns in the dataframe')"
   ]
  },
  {
   "cell_type": "markdown",
   "metadata": {},
   "source": [
    "#### 3.2 Column Titles"
   ]
  },
  {
   "cell_type": "code",
   "execution_count": 43,
   "metadata": {},
   "outputs": [
    {
     "name": "stdout",
     "output_type": "stream",
     "text": [
      "YEAR\n",
      "SERIAL\n",
      "MONTH\n",
      "CPSID\n",
      "ASECFLAG\n",
      "ASECWTH\n",
      "PERNUM\n",
      "CPSIDP\n",
      "ASECWT\n",
      "AGE\n",
      "SEX\n",
      "RACE\n",
      "MARST\n",
      "BPL\n",
      "HISPAN\n",
      "INCTOT\n"
     ]
    }
   ],
   "source": [
    "\n",
    "for col in df.columns:\n",
    "    print(col)"
   ]
  },
  {
   "cell_type": "markdown",
   "metadata": {},
   "source": [
    "#### 3.3 Checking the Data for Missing Values\n",
    "\n",
    "Please not that my professor had cleaned the dataset prior to sharing with the class. But, to ensure that I am using data of good quality it is important to check."
   ]
  },
  {
   "cell_type": "code",
   "execution_count": 11,
   "metadata": {},
   "outputs": [
    {
     "name": "stdout",
     "output_type": "stream",
     "text": [
      "The sum of missing values in each column\n",
      "YEAR        0\n",
      "SERIAL      0\n",
      "MONTH       0\n",
      "CPSID       0\n",
      "ASECFLAG    0\n",
      "ASECWTH     0\n",
      "PERNUM      0\n",
      "CPSIDP      0\n",
      "ASECWT      0\n",
      "AGE         0\n",
      "SEX         0\n",
      "RACE        0\n",
      "MARST       0\n",
      "BPL         0\n",
      "HISPAN      0\n",
      "INCTOT      0\n",
      "dtype: int64\n",
      "Result: There are zero missing values in the data set\n"
     ]
    }
   ],
   "source": [
    "print(\"The sum of missing values in each column\")\n",
    "print(df.isnull().sum())\n",
    "print(\"Result: There are zero missing values in the data set\")"
   ]
  },
  {
   "cell_type": "markdown",
   "metadata": {},
   "source": [
    "***\n",
    "### **4. Cleaning the Data**\n",
    "***"
   ]
  },
  {
   "cell_type": "markdown",
   "metadata": {},
   "source": [
    "***\n",
    "### **5. Analyzing the Data**\n",
    "***\n"
   ]
  },
  {
   "cell_type": "markdown",
   "metadata": {},
   "source": [
    "#### 5.1: Use appropriate graphs to show the distributions of total income and hours worked in the year. Note that the hours worked per year variable needs to be constructed from the two variables WKSWORK1 and UHRSWORK.\n"
   ]
  },
  {
   "cell_type": "code",
   "execution_count": 13,
   "metadata": {},
   "outputs": [],
   "source": [
    "# # Creating the hours worked per year variable \"hrs_year\" by multiplying WKSWORK1 and UHRSWORK\n",
    "# df[\"hrs_year\"] = df[\"WKSWORK1\"]* df[\"UHRSWORK\"]"
   ]
  },
  {
   "cell_type": "markdown",
   "metadata": {},
   "source": [
    "#### 5.2: Draw a scatter plot showing the relationship between total income and hours worked.\n"
   ]
  },
  {
   "cell_type": "markdown",
   "metadata": {},
   "source": [
    "#### 5.3: Find the covariance and correlation coefficient between total income and hours worked.\n"
   ]
  },
  {
   "cell_type": "markdown",
   "metadata": {},
   "source": [
    "#### 5.4: Draw a regression line in the scatter plot and estimate the slope, intercept and R square.\n"
   ]
  },
  {
   "cell_type": "markdown",
   "metadata": {},
   "source": [
    "#### 5.5: Repeat everything using Wage and Salary Income (INCWAGE) as your Y variable and verify whether you find a stronger correlation than when you used Total Income (INCTOT). Explain Why?\n"
   ]
  },
  {
   "cell_type": "markdown",
   "metadata": {},
   "source": [
    "####  5.6: Using INCWAGE, repeat the correlation and regression analysis separately for men and women and compare the results.\n"
   ]
  },
  {
   "cell_type": "markdown",
   "metadata": {},
   "source": []
  }
 ],
 "metadata": {
  "kernelspec": {
   "display_name": "Python 3.9.12 ('base')",
   "language": "python",
   "name": "python3"
  },
  "language_info": {
   "codemirror_mode": {
    "name": "ipython",
    "version": 3
   },
   "file_extension": ".py",
   "mimetype": "text/x-python",
   "name": "python",
   "nbconvert_exporter": "python",
   "pygments_lexer": "ipython3",
   "version": "3.9.12"
  },
  "orig_nbformat": 4,
  "vscode": {
   "interpreter": {
    "hash": "49a23c992ca8aad317bcf175e40c00785cb119e116d6d13aa8d7d07120232c74"
   }
  }
 },
 "nbformat": 4,
 "nbformat_minor": 2
}
